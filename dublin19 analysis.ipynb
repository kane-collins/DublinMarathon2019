{
 "cells": [
  {
   "cell_type": "markdown",
   "metadata": {},
   "source": [
    "## Dublin Marathon 2019 Analysis\n",
    "Here I do some analysis on the data that I have already scraped from the web."
   ]
  },
  {
   "cell_type": "code",
   "execution_count": 1,
   "metadata": {},
   "outputs": [],
   "source": [
    "#Import required libraries\n",
    "import numpy as np\n",
    "import pandas as pd\n",
    "import seaborn as sns\n",
    "import matplotlib.pyplot as plt\n",
    "from datetime import datetime\n",
    "%matplotlib inline"
   ]
  },
  {
   "cell_type": "markdown",
   "metadata": {},
   "source": [
    "### Importing and tidying data"
   ]
  },
  {
   "cell_type": "code",
   "execution_count": 2,
   "metadata": {},
   "outputs": [
    {
     "name": "stdout",
     "output_type": "stream",
     "text": [
      "(17732, 10)\n"
     ]
    },
    {
     "data": {
      "text/html": [
       "<div>\n",
       "<style scoped>\n",
       "    .dataframe tbody tr th:only-of-type {\n",
       "        vertical-align: middle;\n",
       "    }\n",
       "\n",
       "    .dataframe tbody tr th {\n",
       "        vertical-align: top;\n",
       "    }\n",
       "\n",
       "    .dataframe thead th {\n",
       "        text-align: right;\n",
       "    }\n",
       "</style>\n",
       "<table border=\"1\" class=\"dataframe\">\n",
       "  <thead>\n",
       "    <tr style=\"text-align: right;\">\n",
       "      <th></th>\n",
       "      <th>Place overall</th>\n",
       "      <th>Name</th>\n",
       "      <th>From</th>\n",
       "      <th>Cat.</th>\n",
       "      <th>Place in cat.</th>\n",
       "      <th>10kmtime</th>\n",
       "      <th>1st-half time</th>\n",
       "      <th>30kmtime</th>\n",
       "      <th>Chip time</th>\n",
       "      <th>Finish time</th>\n",
       "    </tr>\n",
       "  </thead>\n",
       "  <tbody>\n",
       "    <tr>\n",
       "      <th>0</th>\n",
       "      <td>1</td>\n",
       "      <td>Othmane El Goumri\\r\\n\\t\\t\\t\\t\\t    \\t</td>\n",
       "      <td></td>\n",
       "      <td>MS</td>\n",
       "      <td>1</td>\n",
       "      <td>00:31:54</td>\n",
       "      <td>01:05:06</td>\n",
       "      <td>01:32:31</td>\n",
       "      <td>02:08:06</td>\n",
       "      <td>02:08:06</td>\n",
       "    </tr>\n",
       "    <tr>\n",
       "      <th>1</th>\n",
       "      <td>2</td>\n",
       "      <td>Stephen Scullion\\r\\n\\t\\t\\t\\t\\t    \\t</td>\n",
       "      <td>Clonliffe Harriers A.c.</td>\n",
       "      <td>MS</td>\n",
       "      <td>2</td>\n",
       "      <td>00:31:53</td>\n",
       "      <td>01:06:44</td>\n",
       "      <td>01:35:00</td>\n",
       "      <td>02:12:01</td>\n",
       "      <td>02:12:01</td>\n",
       "    </tr>\n",
       "    <tr>\n",
       "      <th>2</th>\n",
       "      <td>3</td>\n",
       "      <td>Mengistu Zelalem\\r\\n\\t\\t\\t\\t\\t    \\t</td>\n",
       "      <td></td>\n",
       "      <td>MS</td>\n",
       "      <td>3</td>\n",
       "      <td>00:31:53</td>\n",
       "      <td>01:05:07</td>\n",
       "      <td>01:32:31</td>\n",
       "      <td>02:12:04</td>\n",
       "      <td>02:12:05</td>\n",
       "    </tr>\n",
       "    <tr>\n",
       "      <th>3</th>\n",
       "      <td>4</td>\n",
       "      <td>Asefa Bekele\\r\\n\\t\\t\\t\\t\\t    \\t</td>\n",
       "      <td></td>\n",
       "      <td>MS</td>\n",
       "      <td>4</td>\n",
       "      <td>00:31:54</td>\n",
       "      <td>01:05:06</td>\n",
       "      <td>01:33:17</td>\n",
       "      <td>02:13:01</td>\n",
       "      <td>02:13:02</td>\n",
       "    </tr>\n",
       "    <tr>\n",
       "      <th>4</th>\n",
       "      <td>5</td>\n",
       "      <td>Tebogo Mathiba\\r\\n\\t\\t\\t\\t\\t    \\t</td>\n",
       "      <td></td>\n",
       "      <td>MS</td>\n",
       "      <td>5</td>\n",
       "      <td>00:31:54</td>\n",
       "      <td>01:05:05</td>\n",
       "      <td>01:33:55</td>\n",
       "      <td>02:13:10</td>\n",
       "      <td>02:13:11</td>\n",
       "    </tr>\n",
       "    <tr>\n",
       "      <th>5</th>\n",
       "      <td>6</td>\n",
       "      <td>Mick Clohisey\\r\\n\\t\\t\\t\\t\\t    \\t</td>\n",
       "      <td>Raheny Shamrock A.c.</td>\n",
       "      <td>MS</td>\n",
       "      <td>6</td>\n",
       "      <td>00:31:54</td>\n",
       "      <td>01:06:17</td>\n",
       "      <td>01:34:42</td>\n",
       "      <td>02:13:18</td>\n",
       "      <td>02:13:19</td>\n",
       "    </tr>\n",
       "    <tr>\n",
       "      <th>6</th>\n",
       "      <td>7</td>\n",
       "      <td>Hiribo Shano Share\\r\\n\\t\\t\\t\\t\\t    \\t</td>\n",
       "      <td></td>\n",
       "      <td>MS</td>\n",
       "      <td>7</td>\n",
       "      <td>00:31:31</td>\n",
       "      <td>01:05:05</td>\n",
       "      <td>01:32:33</td>\n",
       "      <td>02:14:13</td>\n",
       "      <td>02:14:14</td>\n",
       "    </tr>\n",
       "    <tr>\n",
       "      <th>7</th>\n",
       "      <td>8</td>\n",
       "      <td>Hugh Armstrong\\r\\n\\t\\t\\t\\t\\t    \\t</td>\n",
       "      <td>Ballina A.c.</td>\n",
       "      <td>MS</td>\n",
       "      <td>8</td>\n",
       "      <td>00:31:55</td>\n",
       "      <td>n/a</td>\n",
       "      <td>01:35:16</td>\n",
       "      <td>02:14:21</td>\n",
       "      <td>02:14:22</td>\n",
       "    </tr>\n",
       "    <tr>\n",
       "      <th>8</th>\n",
       "      <td>9</td>\n",
       "      <td>Uladzislau Pramau\\r\\n\\t\\t\\t\\t\\t    \\t</td>\n",
       "      <td></td>\n",
       "      <td>MS</td>\n",
       "      <td>9</td>\n",
       "      <td>00:32:15</td>\n",
       "      <td>01:07:34</td>\n",
       "      <td>01:36:40</td>\n",
       "      <td>02:15:48</td>\n",
       "      <td>02:15:49</td>\n",
       "    </tr>\n",
       "    <tr>\n",
       "      <th>9</th>\n",
       "      <td>10</td>\n",
       "      <td>Sean Hehir\\r\\n\\t\\t\\t\\t\\t    \\t</td>\n",
       "      <td>Metro/st. Brigid's A.c.</td>\n",
       "      <td>MS</td>\n",
       "      <td>10</td>\n",
       "      <td>00:32:05</td>\n",
       "      <td>01:07:23</td>\n",
       "      <td>01:36:26</td>\n",
       "      <td>02:16:01</td>\n",
       "      <td>02:16:01</td>\n",
       "    </tr>\n",
       "  </tbody>\n",
       "</table>\n",
       "</div>"
      ],
      "text/plain": [
       "   Place overall                                    Name  \\\n",
       "0              1   Othmane El Goumri\\r\\n\\t\\t\\t\\t\\t    \\t   \n",
       "1              2    Stephen Scullion\\r\\n\\t\\t\\t\\t\\t    \\t   \n",
       "2              3    Mengistu Zelalem\\r\\n\\t\\t\\t\\t\\t    \\t   \n",
       "3              4        Asefa Bekele\\r\\n\\t\\t\\t\\t\\t    \\t   \n",
       "4              5      Tebogo Mathiba\\r\\n\\t\\t\\t\\t\\t    \\t   \n",
       "5              6       Mick Clohisey\\r\\n\\t\\t\\t\\t\\t    \\t   \n",
       "6              7  Hiribo Shano Share\\r\\n\\t\\t\\t\\t\\t    \\t   \n",
       "7              8      Hugh Armstrong\\r\\n\\t\\t\\t\\t\\t    \\t   \n",
       "8              9   Uladzislau Pramau\\r\\n\\t\\t\\t\\t\\t    \\t   \n",
       "9             10          Sean Hehir\\r\\n\\t\\t\\t\\t\\t    \\t   \n",
       "\n",
       "                      From Cat.  Place in cat.  10kmtime 1st-half time  \\\n",
       "0                            MS              1  00:31:54      01:05:06   \n",
       "1  Clonliffe Harriers A.c.   MS              2  00:31:53      01:06:44   \n",
       "2                            MS              3  00:31:53      01:05:07   \n",
       "3                            MS              4  00:31:54      01:05:06   \n",
       "4                            MS              5  00:31:54      01:05:05   \n",
       "5     Raheny Shamrock A.c.   MS              6  00:31:54      01:06:17   \n",
       "6                            MS              7  00:31:31      01:05:05   \n",
       "7             Ballina A.c.   MS              8  00:31:55           n/a   \n",
       "8                            MS              9  00:32:15      01:07:34   \n",
       "9  Metro/st. Brigid's A.c.   MS             10  00:32:05      01:07:23   \n",
       "\n",
       "   30kmtime Chip time Finish time  \n",
       "0  01:32:31  02:08:06    02:08:06  \n",
       "1  01:35:00  02:12:01    02:12:01  \n",
       "2  01:32:31  02:12:04    02:12:05  \n",
       "3  01:33:17  02:13:01    02:13:02  \n",
       "4  01:33:55  02:13:10    02:13:11  \n",
       "5  01:34:42  02:13:18    02:13:19  \n",
       "6  01:32:33  02:14:13    02:14:14  \n",
       "7  01:35:16  02:14:21    02:14:22  \n",
       "8  01:36:40  02:15:48    02:15:49  \n",
       "9  01:36:26  02:16:01    02:16:01  "
      ]
     },
     "execution_count": 2,
     "metadata": {},
     "output_type": "execute_result"
    }
   ],
   "source": [
    "#import data from csv file that we have previously scraped from the web\n",
    "df = pd.read_csv('C:/Users/colli/Dropbox/runthenumbers/01Dublin_Marathon_2019/dublin19.csv', keep_default_na=False)\n",
    "\n",
    "#Take a look at the data\n",
    "print(np.shape(df))\n",
    "df.head(10)"
   ]
  },
  {
   "cell_type": "code",
   "execution_count": 3,
   "metadata": {},
   "outputs": [
    {
     "data": {
      "text/plain": [
       "Place overall      0\n",
       "Name               0\n",
       "From               0\n",
       "Cat.               0\n",
       "Place in cat.      0\n",
       "10kmtime         100\n",
       "1st-half time    128\n",
       "30kmtime          68\n",
       "Chip time         82\n",
       "Finish time        0\n",
       "dtype: int64"
      ]
     },
     "execution_count": 3,
     "metadata": {},
     "output_type": "execute_result"
    }
   ],
   "source": [
    "#Do some tidying up\n",
    "#Replace n/a's with NaN\n",
    "df = df.replace('n/a', np.nan)\n",
    "#df = df.replace(\"\\r\\n\\t\\t\\t\\t\\t \\t\", \"\", regex=True)\n",
    "\n",
    "#Just tell us how many NaN's we have\n",
    "df.isna().sum()"
   ]
  },
  {
   "cell_type": "markdown",
   "metadata": {},
   "source": [
    "### Creating new columns for time in seconds"
   ]
  },
  {
   "cell_type": "code",
   "execution_count": 4,
   "metadata": {},
   "outputs": [
    {
     "name": "stderr",
     "output_type": "stream",
     "text": [
      "C:\\Users\\colli\\Anaconda3\\lib\\site-packages\\ipykernel_launcher.py:11: SettingWithCopyWarning: \n",
      "A value is trying to be set on a copy of a slice from a DataFrame\n",
      "\n",
      "See the caveats in the documentation: http://pandas.pydata.org/pandas-docs/stable/indexing.html#indexing-view-versus-copy\n",
      "  # This is added back by InteractiveShellApp.init_path()\n",
      "C:\\Users\\colli\\Anaconda3\\lib\\site-packages\\ipykernel_launcher.py:18: SettingWithCopyWarning: \n",
      "A value is trying to be set on a copy of a slice from a DataFrame\n",
      "\n",
      "See the caveats in the documentation: http://pandas.pydata.org/pandas-docs/stable/indexing.html#indexing-view-versus-copy\n"
     ]
    }
   ],
   "source": [
    "#Create a new column for the chip time in seconds\n",
    "#Note: I am sure there is a more efficient way of doing this, bu this does work\n",
    "df[\"Chip secs\"] = np.zeros(len(df[\"Chip time\"]))\n",
    "for i in range(len(df[\"Chip time\"])):\n",
    "\n",
    "    #Ideally use chip time, but check to see if it exists (ie not NaN)\n",
    "    if type(df[\"Chip time\"][i]) != float:\n",
    "        hours = int(df[\"Chip time\"][i][:2])\n",
    "        mins = int(df[\"Chip time\"][i][3:5])\n",
    "        secs = int(df[\"Chip time\"][i][-2:])\n",
    "        df[\"Chip secs\"][i] = hours*3600 + mins*60 + secs\n",
    "    \n",
    "    #Chip time is not available for 82 entries, so use finish time instead\n",
    "    else:\n",
    "        hours = int(df[\"Finish time\"][i][:2])\n",
    "        mins = int(df[\"Finish time\"][i][3:5])\n",
    "        secs = int(df[\"Finish time\"][i][-2:])\n",
    "        df[\"Chip secs\"][i] = hours*3600 + mins*60 + secs\n"
   ]
  },
  {
   "cell_type": "code",
   "execution_count": 5,
   "metadata": {},
   "outputs": [
    {
     "name": "stderr",
     "output_type": "stream",
     "text": [
      "C:\\Users\\colli\\Anaconda3\\lib\\site-packages\\ipykernel_launcher.py:7: SettingWithCopyWarning: \n",
      "A value is trying to be set on a copy of a slice from a DataFrame\n",
      "\n",
      "See the caveats in the documentation: http://pandas.pydata.org/pandas-docs/stable/indexing.html#indexing-view-versus-copy\n",
      "  import sys\n"
     ]
    }
   ],
   "source": [
    "#Create a new column for the finish time in seconds\n",
    "df[\"Finish secs\"] = np.zeros(len(df[\"Finish time\"]))\n",
    "for i in range(len(df[\"Finish time\"])):\n",
    "    hours = int(df[\"Finish time\"][i][:2])\n",
    "    mins = int(df[\"Finish time\"][i][3:5])\n",
    "    secs = int(df[\"Finish time\"][i][-2:])\n",
    "    df[\"Finish secs\"][i] = hours*3600 + mins*60 + secs\n"
   ]
  },
  {
   "cell_type": "code",
   "execution_count": 6,
   "metadata": {},
   "outputs": [],
   "source": [
    "#Save to csv file and then reload to not have to run all that again\n",
    "df.to_csv('dublin_with_secs.csv', index=False)\n"
   ]
  },
  {
   "cell_type": "code",
   "execution_count": 7,
   "metadata": {},
   "outputs": [
    {
     "data": {
      "text/html": [
       "<div>\n",
       "<style scoped>\n",
       "    .dataframe tbody tr th:only-of-type {\n",
       "        vertical-align: middle;\n",
       "    }\n",
       "\n",
       "    .dataframe tbody tr th {\n",
       "        vertical-align: top;\n",
       "    }\n",
       "\n",
       "    .dataframe thead th {\n",
       "        text-align: right;\n",
       "    }\n",
       "</style>\n",
       "<table border=\"1\" class=\"dataframe\">\n",
       "  <thead>\n",
       "    <tr style=\"text-align: right;\">\n",
       "      <th></th>\n",
       "      <th>Place overall</th>\n",
       "      <th>Name</th>\n",
       "      <th>From</th>\n",
       "      <th>Cat.</th>\n",
       "      <th>Place in cat.</th>\n",
       "      <th>10kmtime</th>\n",
       "      <th>1st-half time</th>\n",
       "      <th>30kmtime</th>\n",
       "      <th>Chip time</th>\n",
       "      <th>Finish time</th>\n",
       "      <th>Chip secs</th>\n",
       "      <th>Finish secs</th>\n",
       "    </tr>\n",
       "  </thead>\n",
       "  <tbody>\n",
       "    <tr>\n",
       "      <th>0</th>\n",
       "      <td>1</td>\n",
       "      <td>Othmane El Goumri\\r\\r\\n\\t\\t\\t\\t\\t    \\t</td>\n",
       "      <td></td>\n",
       "      <td>MS</td>\n",
       "      <td>1</td>\n",
       "      <td>00:31:54</td>\n",
       "      <td>01:05:06</td>\n",
       "      <td>01:32:31</td>\n",
       "      <td>02:08:06</td>\n",
       "      <td>02:08:06</td>\n",
       "      <td>7686.0</td>\n",
       "      <td>7686.0</td>\n",
       "    </tr>\n",
       "    <tr>\n",
       "      <th>1</th>\n",
       "      <td>2</td>\n",
       "      <td>Stephen Scullion\\r\\r\\n\\t\\t\\t\\t\\t    \\t</td>\n",
       "      <td>Clonliffe Harriers A.c.</td>\n",
       "      <td>MS</td>\n",
       "      <td>2</td>\n",
       "      <td>00:31:53</td>\n",
       "      <td>01:06:44</td>\n",
       "      <td>01:35:00</td>\n",
       "      <td>02:12:01</td>\n",
       "      <td>02:12:01</td>\n",
       "      <td>7921.0</td>\n",
       "      <td>7921.0</td>\n",
       "    </tr>\n",
       "    <tr>\n",
       "      <th>2</th>\n",
       "      <td>3</td>\n",
       "      <td>Mengistu Zelalem\\r\\r\\n\\t\\t\\t\\t\\t    \\t</td>\n",
       "      <td></td>\n",
       "      <td>MS</td>\n",
       "      <td>3</td>\n",
       "      <td>00:31:53</td>\n",
       "      <td>01:05:07</td>\n",
       "      <td>01:32:31</td>\n",
       "      <td>02:12:04</td>\n",
       "      <td>02:12:05</td>\n",
       "      <td>7924.0</td>\n",
       "      <td>7925.0</td>\n",
       "    </tr>\n",
       "    <tr>\n",
       "      <th>3</th>\n",
       "      <td>4</td>\n",
       "      <td>Asefa Bekele\\r\\r\\n\\t\\t\\t\\t\\t    \\t</td>\n",
       "      <td></td>\n",
       "      <td>MS</td>\n",
       "      <td>4</td>\n",
       "      <td>00:31:54</td>\n",
       "      <td>01:05:06</td>\n",
       "      <td>01:33:17</td>\n",
       "      <td>02:13:01</td>\n",
       "      <td>02:13:02</td>\n",
       "      <td>7981.0</td>\n",
       "      <td>7982.0</td>\n",
       "    </tr>\n",
       "    <tr>\n",
       "      <th>4</th>\n",
       "      <td>5</td>\n",
       "      <td>Tebogo Mathiba\\r\\r\\n\\t\\t\\t\\t\\t    \\t</td>\n",
       "      <td></td>\n",
       "      <td>MS</td>\n",
       "      <td>5</td>\n",
       "      <td>00:31:54</td>\n",
       "      <td>01:05:05</td>\n",
       "      <td>01:33:55</td>\n",
       "      <td>02:13:10</td>\n",
       "      <td>02:13:11</td>\n",
       "      <td>7990.0</td>\n",
       "      <td>7991.0</td>\n",
       "    </tr>\n",
       "  </tbody>\n",
       "</table>\n",
       "</div>"
      ],
      "text/plain": [
       "   Place overall                                     Name  \\\n",
       "0              1  Othmane El Goumri\\r\\r\\n\\t\\t\\t\\t\\t    \\t   \n",
       "1              2   Stephen Scullion\\r\\r\\n\\t\\t\\t\\t\\t    \\t   \n",
       "2              3   Mengistu Zelalem\\r\\r\\n\\t\\t\\t\\t\\t    \\t   \n",
       "3              4       Asefa Bekele\\r\\r\\n\\t\\t\\t\\t\\t    \\t   \n",
       "4              5     Tebogo Mathiba\\r\\r\\n\\t\\t\\t\\t\\t    \\t   \n",
       "\n",
       "                      From Cat.  Place in cat.  10kmtime 1st-half time  \\\n",
       "0                            MS              1  00:31:54      01:05:06   \n",
       "1  Clonliffe Harriers A.c.   MS              2  00:31:53      01:06:44   \n",
       "2                            MS              3  00:31:53      01:05:07   \n",
       "3                            MS              4  00:31:54      01:05:06   \n",
       "4                            MS              5  00:31:54      01:05:05   \n",
       "\n",
       "   30kmtime Chip time Finish time  Chip secs  Finish secs  \n",
       "0  01:32:31  02:08:06    02:08:06     7686.0       7686.0  \n",
       "1  01:35:00  02:12:01    02:12:01     7921.0       7921.0  \n",
       "2  01:32:31  02:12:04    02:12:05     7924.0       7925.0  \n",
       "3  01:33:17  02:13:01    02:13:02     7981.0       7982.0  \n",
       "4  01:33:55  02:13:10    02:13:11     7990.0       7991.0  "
      ]
     },
     "execution_count": 7,
     "metadata": {},
     "output_type": "execute_result"
    }
   ],
   "source": [
    "#Reload dataframe\n",
    "df = pd.read_csv('C:/Users/colli/Dropbox/runthenumbers/01Dublin_Marathon_2019/dublin_with_secs.csv', keep_default_na=False)\n",
    "df.head()"
   ]
  },
  {
   "cell_type": "markdown",
   "metadata": {},
   "source": [
    "### Basic analysis\n",
    "Now that we have our data tidied up a little, we will actually do some analysis of it."
   ]
  },
  {
   "cell_type": "code",
   "execution_count": 8,
   "metadata": {},
   "outputs": [],
   "source": [
    "#First we create a function to convert seconds to hours and minutes\n",
    "def sec_to_mins(seconds):\n",
    "    seconds = seconds % (24 * 3600) \n",
    "    hour = seconds // 3600\n",
    "    seconds %= 3600\n",
    "    minutes = seconds // 60\n",
    "    seconds %= 60\n",
    "    return \"%d:%02d:%02d\" % (hour, minutes, seconds)"
   ]
  },
  {
   "cell_type": "code",
   "execution_count": 9,
   "metadata": {},
   "outputs": [
    {
     "name": "stdout",
     "output_type": "stream",
     "text": [
      "Mean Chip time:  4:17:14 \n",
      "Mean Finish time: 4:18:55\n"
     ]
    },
    {
     "data": {
      "image/png": "[encoded data removed]",
      "text/plain": [
       "<Figure size 432x288 with 1 Axes>"
      ]
     },
     "metadata": {},
     "output_type": "display_data"
    }
   ],
   "source": [
    "#Get a feeling for the data\n",
    "mean_chip = df['Chip secs'].mean()\n",
    "mean_finish = df['Finish secs'].mean()\n",
    "print(\"Mean Chip time: \", sec_to_mins(mean_chip), \"\\nMean Finish time:\", sec_to_mins(mean_finish))\n",
    "\n",
    "#Plotting\n",
    "plt.hist(df[\"Finish secs\"], bins=40, color=\"red\")\n",
    "plt.axvline(x=mean_chip, label=\"mean time\", color=\"black\")\n",
    "#Convert seconds to hours\n",
    "plt.xticks(list(np.arange(7200, 32400, 3600)), (\"2\", \"3\", \"4\", \"5\", \"6\", \"7\", \"8\"))\n",
    "plt.xlabel(\"Time (hours)\")\n",
    "plt.ylabel(\"Number of participants\")\n",
    "plt.title(\"Distribution of times\")\n",
    "plt.box(False)\n",
    "plt.legend()\n",
    "plt.savefig(\"images/Distribution_of_times.jpg\")"
   ]
  },
  {
   "cell_type": "markdown",
   "metadata": {},
   "source": [
    "### Anaylsis of club runners\n",
    "Now let's find the clubs with the most runners."
   ]
  },
  {
   "cell_type": "code",
   "execution_count": 10,
   "metadata": {},
   "outputs": [
    {
     "name": "stdout",
     "output_type": "stream",
     "text": [
      "Total number of clubs represested: 357\n",
      "Non-club affiliated runners: 12851\n"
     ]
    },
    {
     "data": {
      "image/png": "[encoded data removed]",
      "text/plain": [
       "<Figure size 432x288 with 1 Axes>"
      ]
     },
     "metadata": {},
     "output_type": "display_data"
    }
   ],
   "source": [
    "#count up the number of members from each club\n",
    "pop_clubs = df[\"From\"].value_counts()\n",
    "\n",
    "#Give the total number of clubs\n",
    "print(\"Total number of clubs represested:\", np.shape(pop_clubs)[0])\n",
    "\n",
    "#Number of non club affiliated runners\n",
    "print(\"Non-club affiliated runners:\", pop_clubs[0])\n",
    "\n",
    "#Convert to dictionary for plotting purposes\n",
    "#Choose 10 most popular clubs\n",
    "E = dict(pop_clubs[1:11])\n",
    "\n",
    "#Plotting\n",
    "plt.bar(range(len(E)), list(E.values()), align='center', color=\"red\")\n",
    "plt.xticks(range(len(E)), list(E.keys()), rotation=90)\n",
    "plt.ylim([55,120])\n",
    "plt.xlabel(\"Club\")\n",
    "plt.ylabel(\"Number of participants\")\n",
    "plt.title(\"Most popular clubs\")\n",
    "plt.box(False)\n",
    "plt.savefig(\"images/Most_popular_clubs.jpg\", bbox_inches='tight')"
   ]
  },
  {
   "cell_type": "markdown",
   "metadata": {},
   "source": [
    "### Fastest clubs\n",
    "Next we take a look at the fastest clubs"
   ]
  },
  {
   "cell_type": "code",
   "execution_count": 11,
   "metadata": {},
   "outputs": [
    {
     "data": {
      "image/png": "[encoded data removed]",
      "text/plain": [
       "<Figure size 432x288 with 1 Axes>"
      ]
     },
     "metadata": {},
     "output_type": "display_data"
    }
   ],
   "source": [
    "# Find and plot the fastest clubs\n",
    "gb = df.groupby([\"From\"])\n",
    "club_times = gb[\"Chip secs\"].agg(np.mean)\n",
    "\n",
    "#Sort by time\n",
    "club_times_sorted = pd.Series({key: value for key, value in sorted(club_times.items(), key=lambda item: item[1])})\n",
    "\n",
    "D = dict(club_times_sorted[:10])\n",
    "plt.bar(range(len(D)), list(D.values()), align='center', color=\"red\")\n",
    "plt.xticks(range(len(D)), list(D.keys()), rotation=90)\n",
    "plt.ylim([10000,11200])\n",
    "\n",
    "#Convert times to hours and mins\n",
    "plt.yticks((9900, 10200, 10500, 10800, 11100),(\"2:45\", \"2:50\", \"2:55\", \"3:00\", \"3:05\"))\n",
    "plt.title(\"Fastest Clubs\")\n",
    "plt.xlabel(\"Club\")\n",
    "plt.ylabel(\"Time\")\n",
    "plt.box(False)\n",
    "plt.savefig(\"images/Fastest_clubs.jpg\", bbox_inches='tight')"
   ]
  },
  {
   "cell_type": "markdown",
   "metadata": {},
   "source": [
    "Now this is all very well and good, but doesn't take into account that some of these clubs are very small (for example a club with only one runner who runs 2:45 will thus have a club average of 2:45). For this reason it seems fair in trying to find the fastest club to only work with the \"large\" clubs. So lets do this again, defining a large club as one with 20 or more runners. "
   ]
  },
  {
   "cell_type": "code",
   "execution_count": 12,
   "metadata": {},
   "outputs": [
    {
     "name": "stdout",
     "output_type": "stream",
     "text": [
      "Difference between club runners and non club runners is 747 seconds\n"
     ]
    },
    {
     "data": {
      "image/png": "[encoded data removed]",
      "text/plain": [
       "<Figure size 432x288 with 1 Axes>"
      ]
     },
     "metadata": {},
     "output_type": "display_data"
    }
   ],
   "source": [
    "df_club = df[df[\"From\"] != '']\n",
    "\n",
    "#Find the average finishing time for a club runner\n",
    "club_mean = df_club[\"Chip secs\"].mean()\n",
    "print(\"Difference between club runners and non club runners is %.0f seconds\" % (mean_chip-club_mean))\n",
    "\n",
    "df_club_large = df_club[df_club['From'].isin(df_club['From'].value_counts()[df_club['From'].value_counts() > 20].index)]\n",
    "\n",
    "# Find and plot the most common clubs\n",
    "group = df_club_large.groupby([\"From\"])\n",
    "large_club_times = group[\"Chip secs\"].agg(np.mean)\n",
    "\n",
    "#Sort by time\n",
    "large_club_times_sorted = pd.Series({key: value for key, value in sorted(large_club_times.items(), key=lambda item: item[1])})\n",
    "\n",
    "F = dict(large_club_times_sorted[:10])\n",
    "plt.bar(range(len(F)), list(F.values()), align='center', color=\"red\")\n",
    "plt.xticks(range(len(F)), list(F.keys()), rotation=90)\n",
    "plt.ylim([11800,13500])\n",
    "\n",
    "#Convert times to hours and mins\n",
    "plt.yticks(list(np.arange(11700, 13800, 300)),(\"3:15\", \"3:20\", \"3:25\", \"3:30\", \"3:35\", \"3:40\", \"3:45\"))\n",
    "plt.title(\"Fastest Large Clubs\")\n",
    "plt.xlabel(\"Club\")\n",
    "plt.ylabel(\"Time (hours)\")\n",
    " \n",
    "plt.box(False)\n",
    "plt.savefig(\"images/Fastest_large_clubs.jpg\", bbox_inches='tight')"
   ]
  },
  {
   "cell_type": "code",
   "execution_count": null,
   "metadata": {},
   "outputs": [],
   "source": []
  }
 ],
 "metadata": {
  "kernelspec": {
   "display_name": "Python 3",
   "language": "python",
   "name": "python3"
  },
  "language_info": {
   "codemirror_mode": {
    "name": "ipython",
    "version": 3
   },
   "file_extension": ".py",
   "mimetype": "text/x-python",
   "name": "python",
   "nbconvert_exporter": "python",
   "pygments_lexer": "ipython3",
   "version": "3.6.5"
  }
 },
 "nbformat": 4,
 "nbformat_minor": 2
}
